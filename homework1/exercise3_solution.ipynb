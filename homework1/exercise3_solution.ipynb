{
 "cells": [
  {
   "cell_type": "markdown",
   "id": "94e20b20",
   "metadata": {},
   "source": [
    "# Exercise 3\n",
    "# Q1\n",
    "\n",
    "**KKT conditions (equality-constrained case):**\n",
    "\n",
    "**(1) Primal feasibility**  \n",
    "$$\n",
    "x_{n+1}=Ax_n+Bu_n,\\; n=0,\\dots,N-1,\\qquad x_0=\\bar x_0 .\n",
    "$$\n",
    "\n",
    "**(2) Stationarity**  \n",
    "- w.r.t. $u_n$ $(n=0,\\dots,N-1)$  \n",
    "$$\n",
    "\\frac{\\partial\\mathcal{L}}{\\partial u_n}=2Ru_n+B^\\top\\lambda_{n+1}=0\n",
    "\\;\\Rightarrow\\;\n",
    "\\boxed{\\,u_n=-\\tfrac12 R^{-1}B^\\top\\lambda_{n+1}\\,}.\n",
    "$$\n",
    "(If the control cost were $\\tfrac12u^\\top Ru$, this becomes $u_n=-R^{-1}B^\\top\\lambda_{n+1}$.)\n",
    "\n",
    "- w.r.t. $x_n$  \n",
    "$$\n",
    "\\boxed{\\,\\lambda_N=Q(x_N-x_d)\\,},\\qquad\n",
    "\\boxed{\\,\\lambda_n=Q(x_n-x_d)+A^\\top\\lambda_{n+1}},\\; n=N-1,\\dots,0.\n",
    "$$\n",
    "\n",
    "**(3) Dual feasibility & complementary slackness**  \n",
    "Only equality constraints are present, so no inequality multipliers or complementarity terms.\n",
    "\n",
    "Together we obtain the forward dynamics, backward costate recursion, and the optimal control law:\n",
    "$$\n",
    "\\begin{cases}\n",
    "x_{n+1}=Ax_n+Bu_n,\\;\\;x_0=\\bar x_0,\\\\\n",
    "\\lambda_N=Q(x_N-x_d),\\;\\;\\lambda_n=Q(x_n-x_d)+A^\\top \\lambda_{n+1},\\\\\n",
    "u_n=-\\tfrac12 R^{-1}B^\\top \\lambda_{n+1}.\n",
    "\\end{cases}\n",
    "$$\n"
   ]
  }
 ],
 "metadata": {
  "language_info": {
   "name": "python"
  }
 },
 "nbformat": 4,
 "nbformat_minor": 5
}
