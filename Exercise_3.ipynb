{
 "cells": [
  {
   "cell_type": "markdown",
   "id": "f6686912-4070-4746-8dc8-4a8405ae9b83",
   "metadata": {},
   "source": [
    "# Exercise 3\n",
    "In this exercise, we will control a 2D drone depicted in the figure below <br>\n",
    "<img src='quadrotor.png' width=\"300\">\n",
    "\n",
    "Consider the following simplified linear model of the drone\n",
    "$$\\begin{align}\n",
    "    x_{n+1} = A\n",
    "    x_n + B u_n\n",
    "\\end{align}$$\n",
    "\n",
    "where the components of the state $x_n$ correspond to the horizontal position and velocity of the quadrotor, its vertical position and velocity and its orientation and angular velocity. The control vector\n",
    "$u_n$ contains the forces produced by the rotors (our control inputs).\n",
    "The module ```quadrotor.py``` defines the matrices $A$ and $B$ and code to generate a simulation of the drone."
   ]
  },
  {
   "cell_type": "code",
   "execution_count": null,
   "id": "e293bd98-ed7a-4957-9212-42fdee7481ff",
   "metadata": {},
   "outputs": [],
   "source": [
    "## what we need to do computation and display the drone\n",
    "%matplotlib widget\n",
    "\n",
    "import numpy as np\n",
    "import matplotlib.pyplot as plt\n",
    "\n",
    "import quadrotor"
   ]
  },
  {
   "cell_type": "code",
   "execution_count": null,
   "id": "2dcecf8d-4dfa-4701-ad91-a81dc5bca79a",
   "metadata": {},
   "outputs": [],
   "source": [
    "# the matrices A and B are already defined in the quadrotor module\n",
    "print(f'A =\\n {quadrotor.A}')\n",
    "print(f'B =\\n {quadrotor.B}')"
   ]
  },
  {
   "cell_type": "code",
   "execution_count": null,
   "id": "05803878-65b0-4981-af8d-81ffea3ac795",
   "metadata": {},
   "outputs": [],
   "source": [
    "# we can display the behavior of the drone based on a given control input\n",
    "\n",
    "# we can also start at x0 = 0 and generate a random control of 0 for 300 time steps\n",
    "x0 = np.zeros((6,1))\n",
    "u = np.random.rand(2,300)\n",
    "\n",
    "quadrotor.animate_robot(x0, u, goal=[-3,3])"
   ]
  },
  {
   "cell_type": "markdown",
   "id": "3152fe88-ba4f-4864-90f6-17f9f20c8875",
   "metadata": {},
   "source": [
    "We want to generate a control input will move the drone towards the point $(-3,3)$ starting from $(0,0)$. In order to\n",
    "do so, we define a cost that penalizes the distance to the goal at each time step while minimizing velocities and the amount of trust needed,\n",
    "i.e. we want to solve the following optimal control problem\n",
    "$$\\begin{align}\n",
    "&\\min_{x_0, u_0, x_1, u_1, \\cdots} \\frac{1}{2}\\sum_{n=0}^{N} (x_n - x_{desired})^T Q (x_n - x_{desired}) + u_n^T R u_n\\\\\n",
    "\\textrm{subject to}\\ \\ & x_{n+1} = A x_{n} + B u_n\\\\\n",
    "& x_0 = [0,0,0,0,0,0]^T\n",
    "\\end{align}$$\n",
    "where $x_{desired} = [-3,0,3,0,0,0]^T$\n",
    "\n",
    "1. Write down the first-order optimality conditions (KKT conditions) for the problem\n",
    "2. Write code to solve the problem for N=500 time steps (you will need to find diagonal matrices $Q>0$ and $R>0$ to create a nice movement) by solving the KKT system of linear equations. Do NOT inverse the KKT matrix, instead use the [NumPy solve function](https://numpy.org/doc/stable/reference/generated/numpy.linalg.solve.html) which is numerically more stable and efficient.\n",
    "4. Show plots of all the states of the robot as a function of time\n",
    "5. Show plots of the optimal control as a function of time"
   ]
  },
  {
   "cell_type": "code",
   "execution_count": null,
   "id": "049e472c-0b01-42fe-9b61-cb393750aa5c",
   "metadata": {},
   "outputs": [],
   "source": [
    "## write down your code here"
   ]
  }
 ],
 "metadata": {
  "kernelspec": {
   "display_name": "Python 3 (ipykernel)",
   "language": "python",
   "name": "python3"
  },
  "language_info": {
   "codemirror_mode": {
    "name": "ipython",
    "version": 3
   },
   "file_extension": ".py",
   "mimetype": "text/x-python",
   "name": "python",
   "nbconvert_exporter": "python",
   "pygments_lexer": "ipython3",
   "version": "3.13.7"
  }
 },
 "nbformat": 4,
 "nbformat_minor": 5
}
